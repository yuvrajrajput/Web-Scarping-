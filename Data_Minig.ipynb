{
  "nbformat": 4,
  "nbformat_minor": 0,
  "metadata": {
    "colab": {
      "name": "Data Minig.ipynb",
      "provenance": []
    },
    "kernelspec": {
      "name": "python3",
      "display_name": "Python 3"
    },
    "language_info": {
      "name": "python"
    }
  },
  "cells": [
    {
      "cell_type": "code",
      "execution_count": 3,
      "metadata": {
        "id": "q63oqqy73KLp"
      },
      "outputs": [],
      "source": [
        "import bs4 as bs\n",
        "import urllib.request\n",
        "import ssl\n",
        "ssl._create_default_https_context = ssl._create_unverified_context\n",
        "from socket import error as SocketError\n",
        "import errno"
      ]
    },
    {
      "cell_type": "code",
      "source": [
        "\n",
        "#try:\n",
        "source = urllib.request.urlopen('https://www.indiantradeportal.in/vs.jsp?pid=17&agreements=147-7%2C147-10%2C199-2%2C199-7%2C199-8%2C199-9%2C199-16%2C223-4%2C223-7&indHscode=1704&hscodes=2401103520-147%2C&147=2401103520')    \n",
        "#except SocketError as e:\n",
        " #   if e.errno != errno.ECONNRESET:\n",
        "  #      raise # Not error we are looking for\n",
        "   # pass # Handle error here."
      ],
      "metadata": {
        "id": "DlloWhV93NTw"
      },
      "execution_count": 4,
      "outputs": []
    },
    {
      "cell_type": "code",
      "source": [
        "soup = bs.BeautifulSoup(source , 'lxml')"
      ],
      "metadata": {
        "id": "oPAJ7B_i0Iol"
      },
      "execution_count": 5,
      "outputs": []
    },
    {
      "cell_type": "code",
      "source": [
        "print(soup.title)"
      ],
      "metadata": {
        "colab": {
          "base_uri": "https://localhost:8080/"
        },
        "id": "W-6GrNgn0Qr0",
        "outputId": "3fb8f1a7-71ce-46e2-c611-d645e5f1076c"
      },
      "execution_count": 6,
      "outputs": [
        {
          "output_type": "stream",
          "name": "stdout",
          "text": [
            "<title>Indian Trade Portal</title>\n"
          ]
        }
      ]
    },
    {
      "cell_type": "code",
      "source": [
        "for url in soup.find_all('a'):\n",
        "    print(url.get('href'))\n"
      ],
      "metadata": {
        "colab": {
          "base_uri": "https://localhost:8080/"
        },
        "id": "VmmyUOCk0WR8",
        "outputId": "53643fdc-e645-4a41-b0fb-4b50342066b6"
      },
      "execution_count": 7,
      "outputs": [
        {
          "output_type": "stream",
          "name": "stdout",
          "text": [
            "#\n",
            "#\n",
            "#\n",
            "#\n",
            "http://commerce.gov.in/\n",
            "https://www.fieo.org\n",
            "/index.jsp?lang=0\n",
            "vs.jsp?lang=0&id=0,270\n",
            "vs.jsp?lang=0&id=0,1\n",
            "vs.jsp?lang=0&id=0,1,63\n",
            "vs.jsp?lang=0&id=0,1,63,70\n",
            "vs.jsp?lang=0&id=0,1,63,22099\n",
            "vs.jsp?lang=0&id=0,1,63,25696\n",
            "vs.jsp?lang=0&id=0,1,63,80\n",
            "vs.jsp?lang=0&id=0,1,63,67\n",
            "vs.jsp?lang=0&id=0,1,63,72\n",
            "vs.jsp?lang=0&id=0,1,63,81\n",
            "vs.jsp?lang=0&id=0,1,63,78\n",
            "vs.jsp?lang=0&id=0,1,63,73\n",
            "vs.jsp?lang=0&id=0,1,63,74\n",
            "vs.jsp?lang=0&id=0,1,63,69\n",
            "vs.jsp?lang=0&id=0,1,63,75\n",
            "vs.jsp?lang=0&id=0,1,63,85\n",
            "vs.jsp?lang=0&id=0,1,63,84\n",
            "vs.jsp?lang=0&id=0,1,63,82\n",
            "vs.jsp?lang=0&id=0,1,63,66\n",
            "vs.jsp?lang=0&id=0,1,63,2472\n",
            "vs.jsp?lang=0&id=0,1,63,68\n",
            "vs.jsp?lang=0&id=0,1,63,76\n",
            "vs.jsp?lang=0&id=0,1,63,2401\n",
            "vs.jsp?lang=0&id=0,263\n",
            "http://indiantradeportal.in/vs.jsp?id=0,25,45,858,859\n",
            "vs.jsp?lang=0&id=0,263,273\n",
            "vs.jsp?lang=0&id=0,30\n",
            "https://www.indiantradeportal.in/vs.jsp?lang=0&id=0,25,3091\n",
            "vs.jsp?lang=0&id=0,31\n",
            "vs.jsp?lang=0&id=0,31,223\n",
            "vs.jsp?lang=0&id=0,31,223,24369\n",
            "vs.jsp?lang=0&id=0,31,223,228\n",
            "vs.jsp?lang=0&id=0,31,223,239\n",
            "vs.jsp?lang=0&id=0,31,213\n",
            "http://dgft.gov.in/\n",
            "https://www.cbic.gov.in/\n",
            "https://mea.gov.in/indian-missions-abroad-new.htm\n",
            "https://www.icegate.gov.in/Webappl/\n",
            "vs.jsp?lang=0&id=0,31,224\n",
            "vs.jsp?lang=0&id=0,31,24100\n",
            "vs.jsp?lang=0&id=0,31,24100,24101\n",
            "vs.jsp?lang=0&id=0,31,24100,24102\n",
            "vs.jsp?lang=0&id=0,31,24100,24103\n",
            "vs.jsp?lang=0&id=0,31,24100,24104\n",
            "vs.jsp?lang=0&id=0,31,24100,24105\n",
            "vs.jsp?lang=0&id=0,31,24100,24106\n",
            "vs.jsp?lang=0&id=0,31,24100,24107\n",
            "vs.jsp?lang=0&id=0,31,24100,24108\n",
            "vs.jsp?lang=0&id=0,31,24100,24109\n",
            "vs.jsp?lang=0&id=0,31,24100,24110\n",
            "vs.jsp?lang=0&id=0,31,24100,24111\n",
            "vs.jsp?lang=0&id=0,31,24100,24112\n",
            "vs.jsp?lang=0&id=0,31,24100,24113\n",
            "vs.jsp?lang=0&id=0,31,24100,24114\n",
            "vs.jsp?lang=0&id=0,31,24100,24115\n",
            "vs.jsp?lang=0&id=0,31,24100,24116\n",
            "vs.jsp?lang=0&id=0,31,24100,24117\n",
            "vs.jsp?lang=0&id=0,31,24100,24118\n",
            "vs.jsp?lang=0&id=0,31,24100,24119\n",
            "vs.jsp?lang=0&id=0,31,24100,24120\n",
            "vs.jsp?lang=0&id=0,31,24100,24121\n",
            "vs.jsp?lang=0&id=0,31,24100,24122\n",
            "vs.jsp?lang=0&id=0,31,24100,24123\n",
            "vs.jsp?lang=0&id=0,31,24100,24124\n",
            "vs.jsp?lang=0&id=0,31,24100,24125\n",
            "http://www.makeinindia.com/home\n",
            "vs.jsp?lang=0&id=0,31,511\n",
            "vs.jsp?lang=0&id=0,31,511,512\n",
            "vs.jsp?lang=0&id=0,31,511,513\n",
            "vs.jsp?lang=0&id=0,31,511,514\n",
            "http://www.cbic.gov.in/resources//htdocs-cbec/deptt_offcr/customs-manual2018.pdf\n",
            "vs.jsp?lang=0&id=0,31,5506\n",
            "vs.jsp?lang=0&id=0,31,5506,5507\n",
            "vs.jsp?lang=0&id=0,31,5506,5510\n",
            "vs.jsp?lang=0&id=0,31,5830\n",
            "vs.jsp?lang=0&id=0,31,5830,17542\n",
            "vs.jsp?lang=0&id=0,31,5830,5831\n",
            "vs.jsp?lang=0&id=0,994\n",
            "vs.jsp?lang=0&id=0,275\n",
            "vs.jsp?lang=0&id=0,656\n",
            "https://www.indiantradeportal.in/vs.jsp?lang=0&id=0,656\n",
            "javascript:history.back(0);\n",
            "None\n",
            "#\n",
            "#\n",
            "docs/RoO/INDIA_GSP_RoO.pdf\n",
            "https://coo.dgft.gov.in/\n",
            "vs.jsp?lang=0&id=0,25,44\n",
            "https://fieo.live/ChatwithDG\n",
            "https://www.indianbusinessportal.in/\n",
            "/alerts_implemented_spstbt.jsp?lang=0\n",
            "vs.jsp?lang=0&id=0,25,3091\n",
            "https://www.easeoflogistics.com/\n",
            "http://www.indiantradeportal.in/vs.jsp?id=0,55,276\n",
            "https://www.fieo.org/Offrings-from-Indian-Exporters.php\n",
            "https://www.indiantradeportal.in//uploads/General%20Documents/Final%20Presentation%20-11.9.19.pdf\n",
            "vs.jsp?lang=0&id=0,25,45\n",
            "vs.jsp?lang=0&id=0,25,857\n",
            "vs.jsp?lang=0&id=0,25,236\n",
            "vs.jsp?lang=0&id=0,55,276\n",
            "vs.jsp?lang=0&id=0,55,287\n",
            "vs.jsp?lang=0&id=0,55,280\n",
            "vs.jsp?lang=0&id=0,55,15502\n",
            "vs.jsp?lang=0&id=0,55,284\n",
            "vs.jsp?lang=0&id=0,55,286\n",
            "vs.jsp?lang=0&id=0,55,283\n",
            "vs.jsp?lang=0&id=0,55,15627\n",
            "vs.jsp?lang=0&id=0,55,15535\n",
            "vs.jsp?lang=0&id=0,55,288\n",
            "vs.jsp?lang=0&id=0,55,15549\n",
            "vs.jsp?lang=0&id=0,55,23222\n",
            "http://www.fieo.org/view_detail.php?id=0,22&dcd=7698&evetype=0\n",
            "https://fieo.org/view_detail.php?id=0,22&dcd=8366&evetype=0\n",
            "https://fieo.org/view_detail.php?id=0,22&dcd=8635&evetype=0\n",
            "vs.jsp?lang=0&pid=21\n",
            "https://economictimes.indiatimes.com/news/economy/foreign-trade/indias-russian-refined-product-imports-treble/articleshow/93417585.cms\n",
            "https://economictimes.indiatimes.com/news/economy/foreign-trade/ipef-trade-pillar-must-be-converted-into-a-trade-agreement-suggest-experts/articleshow/93391150.cms\n",
            "https://theprint.in/world/india-south-africa-hold-11th-foreign-office-consultations-review-ties/1067883/\n",
            "news.jsp?lang=0\n",
            "http://india.gov.in\n",
            "http://www.mea.gov.in\n",
            "http://commerce.gov.in/\n",
            "https://www.icegate.gov.in/SWIFT/\n",
            "vs.jsp?id=0,271&lang=0\n",
            "None\n"
          ]
        }
      ]
    },
    {
      "cell_type": "code",
      "source": [
        "print(soup.get_text())"
      ],
      "metadata": {
        "colab": {
          "base_uri": "https://localhost:8080/"
        },
        "id": "SVIs0v-S0n4s",
        "outputId": "5c811a13-8540-4c4d-fce8-f680d3f990a1"
      },
      "execution_count": 8,
      "outputs": [
        {
          "output_type": "stream",
          "name": "stdout",
          "text": [
            "Indian Trade PortalFeedback/ Help/ QueriesEmail:Message:Captcha:LoginFIEO MemberEPC MemberUsername:Password:Captcha:Forgot password?Create UsernameSubscribe now!Name:Email: Subscribe nowClose Indian Trade PortalA-  A   A+HomeAboutTrade AgreementsIn ForcePreferential Trade Agreement Between India And Afghanistan (PTA)Comprehensive Economic Cooperation and Partnership Agreement (CECPA) between The Republic of India and The Republic of MauritiusComprehensive Economic Partnership Agreement (CEPA) between The Government of The Republic of India and The Government of The United Arab EmiratesIndia Africa Trade AgreementAsia Pacific Trade Agreement (APTA)Comprehensive Economic Cooperation Agreement Between India And Association of Southeast Asian Nations (ASEAN)Agreement On Trade, Commerce And Transit Between India And BhutanPreferential Trade Agreement Between India And Chile (PTA)Comprehensive Economic Partnership Agreement Between India And Japan (CEPA)Comprehensive Economic Partnership Agreement Between India And Republic of Korea (CEPA)Comprehensive Economic Cooperation Agreement between India and Malaysia (CECA)Preferential Trade Agreement Between India And MERCOSUR (PTA)Agreement of Cooperation with Nepal to Control Unauthorised TradeTreaty of Transit Between Government of India and Government of NepalRevised Treaty Of Trade Between The Government Of India And The Government Of NepalAgreement On South Asia Free Trade Area (SAFTA)Agreement On SAARC Preferential Trading Arrangement (SAPTA)Comprehensive Economic Cooperation Agreement between The Republic of India and the Republic of Singapore (CECA)Free Trade Agreement Between The Republic of India And The Democratic Socialist Republic of Sri Lanka (FTA)India-Thailand Free Trade Agreement (EHS)Top 25 CountriesTop 25 Export MarketsTop 25 Import SourcesForeign BuyersTrade/Tender QueriesResourcesExport Promotion Bodies of IndiaExport promotion councils/commodity BoardsPublic Sector UndertakingsOther OrganisationsInternational Trade BodiesDirectorate General of Foreign TradeCentral Board of Indirect Taxes and CustomsIndian Missions AbroadCustoms Duty CalculatorActsIndian Industry CapabilityAgriculture And Food IndustryApparel IndustryCarpet IndustryCashew IndustryChemicals IndustryCoffee IndustryCotton IndustryElectronic And Computer Software IndustryEngineering IndustryGem And Jewellery IndustryHandicrafts IndustryHandloom IndustryLeather IndustryPharmaceutical IndustryPlastic IndustryPowerloom IndustryShellac And Forest Products IndustrySilk IndustrySpices IndustrySports IndustrySynthetic And Rayon Textiles IndustryTea IndustryTobacco IndustryWool And Woolen Textile IndustryWool IndustryMake in IndiaTrade StatisticsExport-Import Data BankIndia's TradeFDI StatisticsCustoms ManualSPS-TBT Enquiry PointsSPS Enquiry PointsTBT Enquiry PointsPublicationsComparison of drawback rates published in 2020 vis-a-vis 2018India-ASEAN FTA Outreach Programme (2015-2016)What's NewContact UsHelpLanguageEnglishहिंदीIndian Trade Portal\r\n",
            "\t$(document).ready(function (e) {\r\n",
            "\t\t$('.item').click(function (e) {\r\n",
            "\t\t\tif ($(this).next('.item-data').css('display') != 'block') {\r\n",
            "\t\t\t\t$('.active').slideUp('slow').removeClass('active');\r\n",
            "\t\t\t\t$(this).next('.item-data').addClass('active').slideDown('slow');\r\n",
            "\t\t\t}\r\n",
            "\t\t\telse {\r\n",
            "\t\t\t\t$('.active').slideUp('slow').removeClass('active');\r\n",
            "\t\t\t}\r\n",
            "\t\t});\r\n",
            "\t});\r\n",
            "Applicable tariffs for Indian products into Importing Countries\r\n",
            "    .btnPolicyMeis {\r\n",
            "        float: right;\r\n",
            "    }\r\n",
            "\r\n",
            "    .btnPolicyDrawback, .btnPolicyMeis, .btnPolicyExport {\r\n",
            "        display: none;\r\n",
            "    }\r\n",
            "\r\n",
            "    table.policies {\r\n",
            "        font-family: gadugi !important;\r\n",
            "font-size:13px;\r\n",
            "    }\r\n",
            "\r\n",
            "    /*.btnPolicyDrawback,.btnPolicyExport{background-color: #91C12D;border: 0 none;border-radius: 12px 12px 0 0;color: #ffffff;font-family: arial;font-weight: bold;height: 35px;margin: 0;padding: 0;width: 49%;cursor: pointer;cursor: hand;}\r\n",
            "    .btnPolicyDrawback:hover,.btnPolicyExport:hover{background-color: #553644;color: #ffffff;}*/\r\n",
            "    .spstbt {\r\n",
            "        float: left !important;\r\n",
            "    }\r\n",
            "    div#btnsdiv input {\r\n",
            "        margin: 2px 0;\r\n",
            "    }\r\n",
            "1. Identify ITC HS Code2. Select Product3. Select Country4. Select Corresponding HS Code 5. Tariff TariffPlease take mouse over an ITC-HS Code for Product Description(Tariff(s) is/are in \"%\" until/unless specified otherwise)SPS-TBT 2401103520 Netherlands (as of 05-04-2022)2401103520Most Favoured Nation Tariff 18.4 % MIN 22 EUR DTN MAX 24 EUR DTN 2401103520Generalized System of Preferences Tariff 6.4 % MAX 24 EUR DTN 2401103520Generalized System of Preferences Rules Of OriginGeneralClick here to apply Certificate of OriginNote - Rules of OriginWholly Obtained and ProducedWholly obtained in a beneficiary countryCCChange in ChapterCTHChange in Tariff HeadingCTSHChange in Tariff Sub HeadingRVCRegional Value Content\r\n",
            "        var count = 0;\r\n",
            "        var totPolicy = $(document).find('.policy').length - 1;\r\n",
            "        $(document).find('.policy').each(function (idx) {\r\n",
            "            var that = $(this);\r\n",
            "            var reqtype = \"\", country = \"\", reqfrom = \"\", hscode = \"\", csrftoken = \"\";\r\n",
            "            reqtype = that.data('reqtype');\r\n",
            "            country = that.data('country');\r\n",
            "            reqfrom = that.data('reqfrom');\r\n",
            "            hscode = that.data('hscode');\r\n",
            "            csrftoken = $(document).find('meta[name=csrftoken]').attr('content');\r\n",
            "            $.ajax({\r\n",
            "                type: \"get\",\r\n",
            "                async: false,\r\n",
            "                url: \"apps/ajaxPolicy.jsp\",\r\n",
            "                data: {\r\n",
            "                    reqtype: reqtype,\r\n",
            "                    country: country,\r\n",
            "                    reqfrom: reqfrom,\r\n",
            "                    hscode: hscode,\r\n",
            "                    csrftoken: csrftoken\r\n",
            "                },\r\n",
            "                success: function (result) {\r\n",
            "                    result = result.trim();\r\n",
            "                    if (result.indexOf(\"RecordNotAvailable\") === -1) {\r\n",
            "                        if (that.hasClass('btnPolicyExport') || that.hasClass('btnPolicyDrawback')) {\r\n",
            "                            count++;\r\n",
            "                        }\r\n",
            "                        that.show();\r\n",
            "                    }\r\n",
            "                }, error: function (request, status, error) {\r\n",
            "                    that.remove();\r\n",
            "                }\r\n",
            "            });\r\n",
            "            if (idx === totPolicy && count === 1) {\r\n",
            "                if ($('.btnPolicyExport').css('display') !== \"none\") {\r\n",
            "                    $('.btnPolicyExport').css('width', '100%')\r\n",
            "                }\r\n",
            "                if ($('.btnPolicyDrawback').css('display') !== \"none\") {\r\n",
            "                    $('.btnPolicyDrawback').css('width', '100%')\r\n",
            "                }\r\n",
            "            }\r\n",
            "\r\n",
            "        });\r\n",
            "        \r\n",
            "        $(document).find('#btnsdiv').append(\"<input type='button' title='\"+jsCONST.lblGSTOtherLeviesHelp+\"' data-hscode='24021020' data-reqfrom='export' data-country='' data-reqtype='export' value='\"+jsCONST.lblGSTOtherLevies+\"' class='btnIGST' />\");\r\n",
            "        \r\n",
            "\r\n",
            "        function remove_blankdata() {\r\n",
            "            //alert('hi');\r\n",
            "\r\n",
            "            var colArray = ['igst_gsthscode', 'igst_gstdescription', 'igst_gstrate', 'igst_gstcess'];\r\n",
            "\r\n",
            "\r\n",
            "            var removefunction = setInterval(function () {\r\n",
            "                $.each(colArray, function (index, value) { //console.log('a');\r\n",
            "                    if ($(document).find('.brcls').length > 0)\r\n",
            "                        clearInterval(removefunction);\r\n",
            "                    var count = 0;\r\n",
            "                    $(document).find('.' + value).each(function () {\r\n",
            "                        if ($(this).text().trim() != \"\") count++;\r\n",
            "                    });\r\n",
            "                    //  console.log(count + ' ' + value);\r\n",
            "                    if (count > 1)\r\n",
            "                        $(document).find('.' + value).show();\r\n",
            "                    else $(document).find('.' + value).hide();\r\n",
            "                });\r\n",
            "            }, 300);\r\n",
            "        }\r\n",
            "    For ExporterHow to ExportRegister for Weekly Interaction with Dr. Ajay Sahai, DG & CEO, FIEO Indian Business PortalAlerts on SPS-TBT Measures Trade/Tender QueriesEase of Logistics PortalFrequently Asked QuestionsIndian SuppliersRegulatory Instruments for formulation & implementation of an effective Trade Policy and Development StrategyTrade StatisticsForeign Trade policy/Export Promotion SchemesBanking Regulation Governing ExportsFrequently Asked QuestionsImport-Export Code NumberGeneral Provisions Regarding Imports And ExportsBanking/RBI RegulationsMerchandise Exports from India Scheme (MEIS)Duty Exemption / Remission SchemesEPCGDeemed ExportsGoods and Services TaxE-SEALFree Trade AgreementsE-Way BillRoDTEP SCHEMESearch ITC-HS Code & TariffHS Code (Please type 2 to 6 digits only) ORProduct         Upcoming EventsSubscribe Daily Foreign Exchange Market UpdatesFIEO'S Post Graduate Programme in Foreign Trade Management (PGP-FTM)FIEO Kerala “Districts as Export Hubs “ at Thrissur- Kerala :- Capacity Building Program for the focused Export sectors of Thrissur District, Kerala.More...Latest NewsIndia's Russian refined product imports trebleIPEF trade pillar must be converted into a trade agreement suggest expertsIndia, South Africa hold 11th Foreign Office Consultations, review tiesMore...Copyright © 2014 - Indian Trade PortalDisclaimer 0015755534var ttCountData =[];ttCountData.push({name:'242',value:'7'});ttCountData.push({name:'230',value:'3'});ttCountData.push({name:'225',value:'6'});ttCountData.push({name:'224',value:'6'});ttCountData.push({name:'223',value:'2'});ttCountData.push({name:'218',value:'2'});ttCountData.push({name:'216',value:'2'});ttCountData.push({name:'210',value:'6'});ttCountData.push({name:'209',value:'4'});ttCountData.push({name:'205',value:'4'});ttCountData.push({name:'204',value:'13'});ttCountData.push({name:'203',value:'3'});ttCountData.push({name:'201',value:'1'});ttCountData.push({name:'200',value:'1'});ttCountData.push({name:'199',value:'15'});ttCountData.push({name:'198',value:'66'});ttCountData.push({name:'196',value:'1'});ttCountData.push({name:'193',value:'1'});ttCountData.push({name:'188',value:'6'});ttCountData.push({name:'187',value:'2'});ttCountData.push({name:'186',value:'89'});ttCountData.push({name:'174',value:'8'});ttCountData.push({name:'169',value:'11'});ttCountData.push({name:'165',value:'37'});ttCountData.push({name:'162',value:'4'});ttCountData.push({name:'159',value:'12'});ttCountData.push({name:'144',value:'19'});ttCountData.push({name:'143',value:'4'});ttCountData.push({name:'142',value:'32'});ttCountData.push({name:'135',value:'36'});ttCountData.push({name:'133',value:'20'});ttCountData.push({name:'129',value:'14'});ttCountData.push({name:'128',value:'3'});ttCountData.push({name:'122',value:'1'});ttCountData.push({name:'116',value:'116'});ttCountData.push({name:'113',value:'1'});ttCountData.push({name:'112',value:'1'});ttCountData.push({name:'109',value:'16'});ttCountData.push({name:'107',value:'2'});ttCountData.push({name:'103',value:'1'});ttCountData.push({name:'102',value:'4'});ttCountData.push({name:'101',value:'2'});ttCountData.push({name:'99',value:'3'});ttCountData.push({name:'98',value:'3'});ttCountData.push({name:'93',value:'13'});ttCountData.push({name:'92',value:'24'});ttCountData.push({name:'88',value:'1'});ttCountData.push({name:'85',value:'3'});ttCountData.push({name:'81',value:'17'});ttCountData.push({name:'78',value:'4'});ttCountData.push({name:'70',value:'3'});ttCountData.push({name:'67',value:'9'});ttCountData.push({name:'65',value:'10'});ttCountData.push({name:'63',value:'1'});ttCountData.push({name:'62',value:'11'});ttCountData.push({name:'53',value:'1'});ttCountData.push({name:'52',value:'2'});ttCountData.push({name:'48',value:'7'});ttCountData.push({name:'44',value:'4'});ttCountData.push({name:'39',value:'4'});ttCountData.push({name:'35',value:'4'});ttCountData.push({name:'29',value:'2'});ttCountData.push({name:'20',value:'1'});ttCountData.push({name:'18',value:'33'});ttCountData.push({name:'15',value:'66'});ttCountData.push({name:'14',value:'6'});ttCountData.push({name:'13',value:'21'});ttCountData.push({name:'10',value:'37'});ttCountData.push({name:'6',value:'2'});ttCountData.push({name:'3',value:'5'});for(var q =0; q < ttCountData.length; q++ ){$(document).find('.country-tt-'+ttCountData[q].name).html(' ('+ttCountData[q].value+') ');}var changeCaptcha = function () {var captcha_URL = \"https://www.indiantradeportal.in/Cap_Img.jsp?id=\" + $.now();$(\".realCaptcha\").prop('src', captcha_URL);};$(\".refreshCaptcha\").on('click', changeCaptcha);$(\".open\").on('click', changeCaptcha);$(document).keydown(function (e) {if (e.which === 8 && !$(':focus').length) {e.preventDefault();}});var webTitle = \"Indian Trade Portal\";if (webTitle !== \"\") $('title').html(webTitle);x\n"
          ]
        }
      ]
    },
    {
      "cell_type": "code",
      "source": [
        "table = soup.table"
      ],
      "metadata": {
        "id": "-Polt6vL0r8T"
      },
      "execution_count": 9,
      "outputs": []
    },
    {
      "cell_type": "code",
      "source": [
        "table_rows = table.find_all('tr')"
      ],
      "metadata": {
        "id": "70jFGu4z0zRu"
      },
      "execution_count": 10,
      "outputs": []
    },
    {
      "cell_type": "code",
      "source": [
        "for tr in table_rows:\n",
        "    td = tr.find_all('td')\n",
        "    row = [i.text for i in td]\n",
        "    print(row)"
      ],
      "metadata": {
        "id": "K0hSIdK305C5",
        "colab": {
          "base_uri": "https://localhost:8080/"
        },
        "outputId": "517f25aa-e4b5-4489-baea-75794134256c"
      },
      "execution_count": 11,
      "outputs": [
        {
          "output_type": "stream",
          "name": "stdout",
          "text": [
            "['Email:', '']\n",
            "['Message:', '']\n",
            "['Captcha:', '']\n",
            "['']\n"
          ]
        }
      ]
    },
    {
      "cell_type": "code",
      "source": [
        "import pandas as pd\n",
        "\n",
        "dfs = pd.read_html('https://www.indiantradeportal.in/vs.jsp?pid=17&agreements=147-7%2C147-10%2C199-2%2C199-7%2C199-8%2C199-9%2C199-16%2C223-4%2C223-7&indHscode=1704&hscodes=2401103520-147%2C&147=2401103520',header=0)\n",
        "for df in dfs:\n",
        "    print(df)"
      ],
      "metadata": {
        "colab": {
          "base_uri": "https://localhost:8080/"
        },
        "id": "eEfDlUFo1MGO",
        "outputId": "dca312a5-e215-4189-dc10-4721bbacf4a8"
      },
      "execution_count": 13,
      "outputs": [
        {
          "output_type": "stream",
          "name": "stdout",
          "text": [
            "     Email:  Unnamed: 1\n",
            "0  Message:         NaN\n",
            "1  Captcha:         NaN\n",
            "2       NaN         NaN\n",
            "                        Unnamed: 0                       Unnamed: 1\n",
            "0                        Username:                              NaN\n",
            "1                        Password:                              NaN\n",
            "2                         Captcha:                              NaN\n",
            "3  Forgot password?Create Username  Forgot password?Create Username\n",
            "    Name:  Unnamed: 1\n",
            "0  Email:         NaN\n",
            "1     NaN         NaN\n",
            "  Please take mouse over an ITC-HS Code for Product Description(Tariff(s) is/are in \"%\" until/unless specified otherwise)  \\\n",
            "0  SPS-TBT 2401103520 Netherlands (as of 05-04-2022)                                                                        \n",
            "1                                         2401103520                                                                        \n",
            "2                                         2401103520                                                                        \n",
            "3                                         2401103520                                                                        \n",
            "\n",
            "  Please take mouse over an ITC-HS Code for Product Description(Tariff(s) is/are in \"%\" until/unless specified otherwise).1  \\\n",
            "0  SPS-TBT 2401103520 Netherlands (as of 05-04-2022)                                                                          \n",
            "1                        Most Favoured Nation Tariff                                                                          \n",
            "2           Generalized System of Preferences Tariff                                                                          \n",
            "3  Generalized System of Preferences Rules Of Origin                                                                          \n",
            "\n",
            "  Please take mouse over an ITC-HS Code for Product Description(Tariff(s) is/are in \"%\" until/unless specified otherwise).2  \n",
            "0  SPS-TBT 2401103520 Netherlands (as of 05-04-2022)                                                                         \n",
            "1               18.4 % MIN 22 EUR DTN MAX 24 EUR DTN                                                                         \n",
            "2                               6.4 % MAX 24 EUR DTN                                                                         \n",
            "3                                            General                                                                         \n",
            "         Note - Rules of Origin                  Note - Rules of Origin.1\n",
            "0  Wholly Obtained and Produced  Wholly obtained in a beneficiary country\n",
            "1                            CC                         Change in Chapter\n",
            "2                           CTH                  Change in Tariff Heading\n",
            "3                          CTSH              Change in Tariff Sub Heading\n",
            "4                           RVC                    Regional Value Content\n",
            "   HS Code                        Unnamed: 1\n",
            "0      NaN  (Please type 2 to 6 digits only)\n",
            "1      NaN                                OR\n",
            "2  Product                               NaN\n",
            "3      NaN                               NaN\n",
            "Empty DataFrame\n",
            "Columns: [Copyright © 2014 - Indian Trade Portal, Disclaimer, 0015755546]\n",
            "Index: []\n"
          ]
        }
      ]
    },
    {
      "cell_type": "code",
      "source": [
        "df.to_csv('ship_data.csv')"
      ],
      "metadata": {
        "id": "ePD9kDj61b5y"
      },
      "execution_count": null,
      "outputs": []
    }
  ]
}